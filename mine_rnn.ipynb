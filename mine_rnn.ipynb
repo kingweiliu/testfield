{
 "cells": [
  {
   "cell_type": "code",
   "execution_count": 20,
   "metadata": {},
   "outputs": [
    {
     "data": {
      "text/plain": [
       "'1.8.0'"
      ]
     },
     "execution_count": 20,
     "metadata": {},
     "output_type": "execute_result"
    }
   ],
   "source": [
    "import tensorflow as tf\n",
    "from attrdict import AttrDict\n",
    "tf.__version__"
   ]
  },
  {
   "cell_type": "markdown",
   "metadata": {},
   "source": [
    "读取文件"
   ]
  },
  {
   "cell_type": "code",
   "execution_count": 14,
   "metadata": {},
   "outputs": [],
   "source": [
    "import re\n",
    "import tarfile\n",
    "\n",
    "class ReviewReader:\n",
    "    \n",
    "    TOKEN_REGEX = re.compile(r'[A-Za-z]+|[!?.:,()]')\n",
    "    \n",
    "    def __init__(self):\n",
    "        filepath=\"aclImdb_v1.tar.gz\"\n",
    "        self.train_data = []\n",
    "        self.test_data = []\n",
    "        \n",
    "        with tarfile.open(filepath) as archive:\n",
    "            for filename in archive.getnames():\n",
    "                if filename.startswith('aclImdb/train/pos/'):\n",
    "                    self.train_data.append((self._read(archive, filename), True))\n",
    "                elif filename.startswith('aclImdb/train/neg/'):\n",
    "                    self.train_data.append((self._read(archive, filename), False))\n",
    "                elif filename.startswith('aclImdb/test/pos/'):\n",
    "                    self.test_data.append((self._read(archive, filename), True))\n",
    "                elif filename.startswith('aclImdb/test/neg/'):\n",
    "                    self.test_data.append((self._read(archive, filename), False))\n",
    "    \n",
    "    def _read(self, archive, filename):\n",
    "        with archive.extractfile(filename) as file_:\n",
    "            data = file_.read().decode('utf-8')\n",
    "            data = type(self).TOKEN_REGEX.findall(data)\n",
    "            data = [x.lower() for x in data]\n",
    "            return data\n",
    "    \n",
    "    \n",
    "\n",
    "    "
   ]
  },
  {
   "cell_type": "code",
   "execution_count": 15,
   "metadata": {},
   "outputs": [
    {
     "name": "stdout",
     "output_type": "stream",
     "text": [
      "test.shape: 25000\n",
      "train.shape: 25000\n"
     ]
    }
   ],
   "source": [
    "rr = ReviewReader()\n",
    "test_data = rr.test_data\n",
    "train_data = rr.train_data\n",
    "print(\"test.shape:\", len(test_data))\n",
    "print(\"train.shape:\", len(train_data))"
   ]
  },
  {
   "cell_type": "code",
   "execution_count": 28,
   "metadata": {},
   "outputs": [],
   "source": [
    "graph = tf.Graph()\n",
    "\n",
    "length = 2700\n",
    "embedding_dimensions = 300\n",
    "\n",
    "params = AttrDict(\n",
    "        rnn_cell = tf.nn.rnn_cell.GRUCell,\n",
    "        rnn_hidden = 300,\n",
    "        optimizer = tf.train.RMSPropOptimizer(0.002),\n",
    "        batch_size = 20,\n",
    "    )\n",
    "\n",
    "with graph.as_default():\n",
    "    data = tf.placeholder(tf.float32, [None, length, embedding_dimensions], name=\"data\")\n",
    "    target = tf.placeholder(tf.float32, [None, 2], name = \"target\")\n",
    "    used = tf.sign(tf.reduce_max(tf.abs(data), reduction_indices = 2))\n",
    "    temp_length = tf.reduce_sum(used, reduction_indices = 1)\n",
    "    seq_length = tf.cast(temp_length, tf.int32)\n",
    "\n",
    "    output, _ = tf.nn.dynamic_rnn(params.rnn_cell(params.rnn_hidden),\n",
    "        data,\n",
    "        dtype = tf.float32,\n",
    "        sequence_length = seq_length\n",
    "    )\n",
    "    "
   ]
  },
  {
   "cell_type": "code",
   "execution_count": 29,
   "metadata": {},
   "outputs": [],
   "source": [
    "writer = tf.summary.FileWriter(\"./graph_temp\", graph)\n",
    "writer.close()"
   ]
  },
  {
   "cell_type": "code",
   "execution_count": null,
   "metadata": {},
   "outputs": [],
   "source": []
  },
  {
   "cell_type": "code",
   "execution_count": null,
   "metadata": {},
   "outputs": [],
   "source": []
  }
 ],
 "metadata": {
  "kernelspec": {
   "display_name": "Python 3",
   "language": "python",
   "name": "python3"
  },
  "language_info": {
   "codemirror_mode": {
    "name": "ipython",
    "version": 3
   },
   "file_extension": ".py",
   "mimetype": "text/x-python",
   "name": "python",
   "nbconvert_exporter": "python",
   "pygments_lexer": "ipython3",
   "version": "3.6.5"
  }
 },
 "nbformat": 4,
 "nbformat_minor": 2
}
