{
 "cells": [
  {
   "cell_type": "code",
   "execution_count": 2,
   "metadata": {},
   "outputs": [],
   "source": [
    "import numpy as np\n"
   ]
  },
  {
   "cell_type": "markdown",
   "metadata": {},
   "source": []
  },
  {
   "cell_type": "code",
   "execution_count": 21,
   "metadata": {},
   "outputs": [
    {
     "name": "stdout",
     "output_type": "stream",
     "text": [
      "---------nparr:------------\n",
      "[ 0  1  2  3  4  5  6  7  8  9 10 11 12 13 14]\n",
      "size: 15\n",
      "shape: (15,)\n",
      "ndim: 1\n",
      "dtype: int32\n",
      "data: <memory at 0x000000001B41B348>\n",
      "itemsize: 4\n",
      "---------nparr:------------\n",
      "[[ 0  1  2  3  4]\n",
      " [ 5  6  7  8  9]\n",
      " [10 11 12 13 14]]\n",
      "size: 15\n",
      "shape: (3, 5)\n",
      "ndim: 2\n",
      "dtype: int32\n",
      "data: <memory at 0x000000001B412558>\n",
      "itemsize: 4\n"
     ]
    }
   ],
   "source": [
    "a = np.arange(15)\n",
    "def print_np_array(nparr):\n",
    "    print(\"---------nparr:------------\")\n",
    "    print(nparr)\n",
    "    print(\"size:\", nparr.size)\n",
    "    print(\"shape:\", nparr.shape)\n",
    "    print(\"ndim:\", nparr.ndim)\n",
    "    print(\"dtype:\", nparr.dtype)\n",
    "    print(\"data:\", nparr.data)\n",
    "    print(\"itemsize:\", nparr.itemsize)\n",
    "print_np_array(a)\n",
    "print_np_array(a.reshape((3,5)))"
   ]
  },
  {
   "cell_type": "code",
   "execution_count": 26,
   "metadata": {},
   "outputs": [
    {
     "name": "stdout",
     "output_type": "stream",
     "text": [
      "b: [[ 0  1  2  3  4]\n",
      " [ 5  6  7  8  9]\n",
      " [10 11 12 13 14]]\n",
      "slice b[1,2] :\t 7\n",
      "slice b[1] :\t [5 6 7 8 9]\n",
      "slice b[2, 3:4] :\t [13]\n"
     ]
    }
   ],
   "source": [
    "b = a.reshape((3, 5))\n",
    "print(\"b:\", b)\n",
    "print(\"slice b[1,2] :\\t\", b[1, 2])\n",
    "print(\"slice b[1] :\\t\", b[1])\n",
    "print(\"slice b[2, 3:4] :\\t\", b[2, 3:4])"
   ]
  },
  {
   "cell_type": "code",
   "execution_count": 48,
   "metadata": {},
   "outputs": [
    {
     "name": "stdout",
     "output_type": "stream",
     "text": [
      "preds: [[0.53635087 0.58673538 0.11809069 0.96433765 0.79700007 0.86838959\n",
      "  0.9964803  0.04766908 0.09578306 0.0469729 ]\n",
      " [0.81801932 0.11706574 0.51987015 0.50161447 0.57244913 0.21255622\n",
      "  0.06278315 0.61826027 0.49267425 0.74024623]]\n",
      "preds>0.5:\t [[ True  True False  True  True  True  True False False False]\n",
      " [ True False  True  True  True False False  True False  True]]\n",
      "label: [[1 1 0 0 0 0 1 1 1 0]\n",
      " [1 0 0 0 0 0 0 1 0 1]]\n",
      "(preds > 0.5) & (label == 1): [[ True  True False False False False  True False False False]\n",
      " [ True False False False False False False  True False  True]]\n",
      "c1 = preds[(preds > 0.5) & (label == 1)]: [0.53635087 0.58673538 0.9964803  0.81801932 0.61826027 0.74024623]\n",
      "准确率: 0.5\n"
     ]
    }
   ],
   "source": [
    "preds = np.random.random((2, 10))\n",
    "label = np.random.randint(0, 2, size=C.shape)\n",
    "print(\"preds:\", preds)\n",
    "print(\"preds>0.5:\\t\",  preds>0.5)\n",
    "print(\"label:\", label)\n",
    "\n",
    "print(\"(preds > 0.5) & (label == 1):\", (preds > 0.5) & (label == 1))\n",
    "c1 = preds[(preds > 0.5) & (label == 1)]\n",
    "c2 = preds[(preds > 0.5)]\n",
    "print(\"c1 = preds[(preds > 0.5) & (label == 1)]:\", c1)\n",
    "print(\"c2\")\n",
    "print(\"准确率:\", c1.size/c2.size )"
   ]
  },
  {
   "cell_type": "code",
   "execution_count": 51,
   "metadata": {},
   "outputs": [
    {
     "name": "stdout",
     "output_type": "stream",
     "text": [
      "[[0.98604807 0.88045376 0.35545885 0.11389504 0.39940345 0.66327033\n",
      "  0.46779491 0.84473159 0.39033236 0.24870198]\n",
      " [0.9989874  0.05638326 0.06676975 0.63577839 0.69660037 0.79307086\n",
      "  0.93731982 0.98474955 0.77789023 0.00821051]]\n",
      "[0 0]\n"
     ]
    }
   ],
   "source": [
    "preds = np.random.random((2, 10))\n",
    "print(preds)\n",
    "print(np.argmax(preds, 1))"
   ]
  },
  {
   "cell_type": "code",
   "execution_count": null,
   "metadata": {},
   "outputs": [],
   "source": []
  }
 ],
 "metadata": {
  "kernelspec": {
   "display_name": "Python 3",
   "language": "python",
   "name": "python3"
  },
  "language_info": {
   "codemirror_mode": {
    "name": "ipython",
    "version": 3
   },
   "file_extension": ".py",
   "mimetype": "text/x-python",
   "name": "python",
   "nbconvert_exporter": "python",
   "pygments_lexer": "ipython3",
   "version": "3.5.5"
  }
 },
 "nbformat": 4,
 "nbformat_minor": 2
}
